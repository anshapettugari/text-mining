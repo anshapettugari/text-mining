{
 "cells": [
  {
   "cell_type": "code",
   "execution_count": 1,
   "id": "ff481d51",
   "metadata": {
    "ExecuteTime": {
     "end_time": "2021-10-20T05:24:09.519989Z",
     "start_time": "2021-10-20T05:24:06.521818Z"
    }
   },
   "outputs": [],
   "source": [
    "import numpy as np\n",
    "import pandas as pd \n",
    "import matplotlib.pyplot as plt"
   ]
  },
  {
   "cell_type": "code",
   "execution_count": 2,
   "id": "90bf6a65",
   "metadata": {
    "ExecuteTime": {
     "end_time": "2021-10-20T05:25:56.353100Z",
     "start_time": "2021-10-20T05:25:56.241093Z"
    }
   },
   "outputs": [
    {
     "data": {
      "text/plain": [
       "(2477, 2)"
      ]
     },
     "execution_count": 2,
     "metadata": {},
     "output_type": "execute_result"
    }
   ],
   "source": [
    "afinn = pd.read_csv('Afinn.csv', sep=',', encoding='latin-1')\n",
    "afinn.shape "
   ]
  },
  {
   "cell_type": "code",
   "execution_count": 3,
   "id": "a2a8895b",
   "metadata": {
    "ExecuteTime": {
     "end_time": "2021-10-20T05:26:47.652034Z",
     "start_time": "2021-10-20T05:26:47.626032Z"
    }
   },
   "outputs": [
    {
     "data": {
      "text/html": [
       "<div>\n",
       "<style scoped>\n",
       "    .dataframe tbody tr th:only-of-type {\n",
       "        vertical-align: middle;\n",
       "    }\n",
       "\n",
       "    .dataframe tbody tr th {\n",
       "        vertical-align: top;\n",
       "    }\n",
       "\n",
       "    .dataframe thead th {\n",
       "        text-align: right;\n",
       "    }\n",
       "</style>\n",
       "<table border=\"1\" class=\"dataframe\">\n",
       "  <thead>\n",
       "    <tr style=\"text-align: right;\">\n",
       "      <th></th>\n",
       "      <th>word</th>\n",
       "      <th>value</th>\n",
       "    </tr>\n",
       "  </thead>\n",
       "  <tbody>\n",
       "    <tr>\n",
       "      <th>0</th>\n",
       "      <td>abandon</td>\n",
       "      <td>-2</td>\n",
       "    </tr>\n",
       "    <tr>\n",
       "      <th>1</th>\n",
       "      <td>abandoned</td>\n",
       "      <td>-2</td>\n",
       "    </tr>\n",
       "    <tr>\n",
       "      <th>2</th>\n",
       "      <td>abandons</td>\n",
       "      <td>-2</td>\n",
       "    </tr>\n",
       "    <tr>\n",
       "      <th>3</th>\n",
       "      <td>abducted</td>\n",
       "      <td>-2</td>\n",
       "    </tr>\n",
       "    <tr>\n",
       "      <th>4</th>\n",
       "      <td>abduction</td>\n",
       "      <td>-2</td>\n",
       "    </tr>\n",
       "  </tbody>\n",
       "</table>\n",
       "</div>"
      ],
      "text/plain": [
       "        word  value\n",
       "0    abandon     -2\n",
       "1  abandoned     -2\n",
       "2   abandons     -2\n",
       "3   abducted     -2\n",
       "4  abduction     -2"
      ]
     },
     "execution_count": 3,
     "metadata": {},
     "output_type": "execute_result"
    }
   ],
   "source": [
    "afinn.head() "
   ]
  },
  {
   "cell_type": "code",
   "execution_count": 4,
   "id": "d4da57d1",
   "metadata": {
    "ExecuteTime": {
     "end_time": "2021-10-20T05:28:13.032305Z",
     "start_time": "2021-10-20T05:27:13.289500Z"
    }
   },
   "outputs": [],
   "source": [
    "import string\n",
    "import spacy\n",
    "\n",
    "from matplotlib.pyplot import imread\n",
    "from matplotlib import pyplot as plt\n",
    "from wordcloud import WordCloud\n",
    "%matplotlib inline\n"
   ]
  },
  {
   "cell_type": "code",
   "execution_count": 5,
   "id": "06e23179",
   "metadata": {
    "ExecuteTime": {
     "end_time": "2021-10-20T05:29:38.411189Z",
     "start_time": "2021-10-20T05:29:38.358185Z"
    }
   },
   "outputs": [
    {
     "data": {
      "text/html": [
       "<div>\n",
       "<style scoped>\n",
       "    .dataframe tbody tr th:only-of-type {\n",
       "        vertical-align: middle;\n",
       "    }\n",
       "\n",
       "    .dataframe tbody tr th {\n",
       "        vertical-align: top;\n",
       "    }\n",
       "\n",
       "    .dataframe thead th {\n",
       "        text-align: right;\n",
       "    }\n",
       "</style>\n",
       "<table border=\"1\" class=\"dataframe\">\n",
       "  <thead>\n",
       "    <tr style=\"text-align: right;\">\n",
       "      <th></th>\n",
       "      <th>Unnamed: 0</th>\n",
       "      <th>Text</th>\n",
       "    </tr>\n",
       "  </thead>\n",
       "  <tbody>\n",
       "    <tr>\n",
       "      <th>0</th>\n",
       "      <td>1</td>\n",
       "      <td>@kunalb11 I�m an alien</td>\n",
       "    </tr>\n",
       "    <tr>\n",
       "      <th>1</th>\n",
       "      <td>2</td>\n",
       "      <td>@ID_AA_Carmack Ray tracing on Cyberpunk with H...</td>\n",
       "    </tr>\n",
       "    <tr>\n",
       "      <th>2</th>\n",
       "      <td>3</td>\n",
       "      <td>@joerogan @Spotify Great interview!</td>\n",
       "    </tr>\n",
       "    <tr>\n",
       "      <th>3</th>\n",
       "      <td>4</td>\n",
       "      <td>@gtera27 Doge is underestimated</td>\n",
       "    </tr>\n",
       "    <tr>\n",
       "      <th>4</th>\n",
       "      <td>5</td>\n",
       "      <td>@teslacn Congratulations Tesla China for amazi...</td>\n",
       "    </tr>\n",
       "    <tr>\n",
       "      <th>...</th>\n",
       "      <td>...</td>\n",
       "      <td>...</td>\n",
       "    </tr>\n",
       "    <tr>\n",
       "      <th>1994</th>\n",
       "      <td>1995</td>\n",
       "      <td>@flcnhvy True, it sounds so surreal, but the n...</td>\n",
       "    </tr>\n",
       "    <tr>\n",
       "      <th>1995</th>\n",
       "      <td>1996</td>\n",
       "      <td>@PPathole Make sure to read ur terms &amp;amp; con...</td>\n",
       "    </tr>\n",
       "    <tr>\n",
       "      <th>1996</th>\n",
       "      <td>1997</td>\n",
       "      <td>@TeslaGong @PPathole Samwise Gamgee</td>\n",
       "    </tr>\n",
       "    <tr>\n",
       "      <th>1997</th>\n",
       "      <td>1998</td>\n",
       "      <td>@PPathole Altho Dumb and Dumber is &lt;U+0001F525...</td>\n",
       "    </tr>\n",
       "    <tr>\n",
       "      <th>1998</th>\n",
       "      <td>1999</td>\n",
       "      <td>Progress update August 28</td>\n",
       "    </tr>\n",
       "  </tbody>\n",
       "</table>\n",
       "<p>1999 rows × 2 columns</p>\n",
       "</div>"
      ],
      "text/plain": [
       "      Unnamed: 0                                               Text\n",
       "0              1                             @kunalb11 I�m an alien\n",
       "1              2  @ID_AA_Carmack Ray tracing on Cyberpunk with H...\n",
       "2              3                @joerogan @Spotify Great interview!\n",
       "3              4                    @gtera27 Doge is underestimated\n",
       "4              5  @teslacn Congratulations Tesla China for amazi...\n",
       "...          ...                                                ...\n",
       "1994        1995  @flcnhvy True, it sounds so surreal, but the n...\n",
       "1995        1996  @PPathole Make sure to read ur terms &amp; con...\n",
       "1996        1997                @TeslaGong @PPathole Samwise Gamgee\n",
       "1997        1998  @PPathole Altho Dumb and Dumber is <U+0001F525...\n",
       "1998        1999                          Progress update August 28\n",
       "\n",
       "[1999 rows x 2 columns]"
      ]
     },
     "execution_count": 5,
     "metadata": {},
     "output_type": "execute_result"
    }
   ],
   "source": [
    "elon=pd.read_csv(\"Elon_musk.csv\")\n",
    "elon"
   ]
  },
  {
   "cell_type": "code",
   "execution_count": 6,
   "id": "9aff280b",
   "metadata": {
    "ExecuteTime": {
     "end_time": "2021-10-20T05:30:45.813044Z",
     "start_time": "2021-10-20T05:30:45.762041Z"
    }
   },
   "outputs": [],
   "source": [
    "affinity_scores = afinn.set_index('word')['value'].to_dict() "
   ]
  },
  {
   "cell_type": "code",
   "execution_count": 41,
   "id": "81b57884",
   "metadata": {
    "ExecuteTime": {
     "end_time": "2021-10-20T06:12:22.809639Z",
     "start_time": "2021-10-20T06:11:59.947332Z"
    }
   },
   "outputs": [
    {
     "name": "stdout",
     "output_type": "stream",
     "text": [
      "Collecting en-core-web-sm==3.1.0\n",
      "  Downloading https://github.com/explosion/spacy-models/releases/download/en_core_web_sm-3.1.0/en_core_web_sm-3.1.0-py3-none-any.whl (13.6 MB)\n",
      "Requirement already satisfied: spacy<3.2.0,>=3.1.0 in c:\\users\\abhinav\\anaconda3\\lib\\site-packages (from en-core-web-sm==3.1.0) (3.1.3)\n",
      "Requirement already satisfied: catalogue<2.1.0,>=2.0.6 in c:\\users\\abhinav\\anaconda3\\lib\\site-packages (from spacy<3.2.0,>=3.1.0->en-core-web-sm==3.1.0) (2.0.6)\n",
      "Requirement already satisfied: numpy>=1.15.0 in c:\\users\\abhinav\\anaconda3\\lib\\site-packages (from spacy<3.2.0,>=3.1.0->en-core-web-sm==3.1.0) (1.19.5)\n",
      "Requirement already satisfied: preshed<3.1.0,>=3.0.2 in c:\\users\\abhinav\\anaconda3\\lib\\site-packages (from spacy<3.2.0,>=3.1.0->en-core-web-sm==3.1.0) (3.0.5)\n",
      "Requirement already satisfied: setuptools in c:\\users\\abhinav\\anaconda3\\lib\\site-packages (from spacy<3.2.0,>=3.1.0->en-core-web-sm==3.1.0) (52.0.0.post20210125)\n",
      "Requirement already satisfied: spacy-legacy<3.1.0,>=3.0.8 in c:\\users\\abhinav\\anaconda3\\lib\\site-packages (from spacy<3.2.0,>=3.1.0->en-core-web-sm==3.1.0) (3.0.8)\n",
      "Requirement already satisfied: srsly<3.0.0,>=2.4.1 in c:\\users\\abhinav\\anaconda3\\lib\\site-packages (from spacy<3.2.0,>=3.1.0->en-core-web-sm==3.1.0) (2.4.1)\n",
      "Requirement already satisfied: typer<0.5.0,>=0.3.0 in c:\\users\\abhinav\\anaconda3\\lib\\site-packages (from spacy<3.2.0,>=3.1.0->en-core-web-sm==3.1.0) (0.4.0)\n",
      "Requirement already satisfied: cymem<2.1.0,>=2.0.2 in c:\\users\\abhinav\\anaconda3\\lib\\site-packages (from spacy<3.2.0,>=3.1.0->en-core-web-sm==3.1.0) (2.0.5)\n",
      "Requirement already satisfied: requests<3.0.0,>=2.13.0 in c:\\users\\abhinav\\anaconda3\\lib\\site-packages (from spacy<3.2.0,>=3.1.0->en-core-web-sm==3.1.0) (2.25.1)\n",
      "Requirement already satisfied: murmurhash<1.1.0,>=0.28.0 in c:\\users\\abhinav\\anaconda3\\lib\\site-packages (from spacy<3.2.0,>=3.1.0->en-core-web-sm==3.1.0) (1.0.5)\n",
      "Requirement already satisfied: tqdm<5.0.0,>=4.38.0 in c:\\users\\abhinav\\anaconda3\\lib\\site-packages (from spacy<3.2.0,>=3.1.0->en-core-web-sm==3.1.0) (4.59.0)\n",
      "Requirement already satisfied: jinja2 in c:\\users\\abhinav\\anaconda3\\lib\\site-packages (from spacy<3.2.0,>=3.1.0->en-core-web-sm==3.1.0) (2.11.3)\n",
      "Requirement already satisfied: blis<0.8.0,>=0.4.0 in c:\\users\\abhinav\\anaconda3\\lib\\site-packages (from spacy<3.2.0,>=3.1.0->en-core-web-sm==3.1.0) (0.7.4)\n",
      "Requirement already satisfied: packaging>=20.0 in c:\\users\\abhinav\\anaconda3\\lib\\site-packages (from spacy<3.2.0,>=3.1.0->en-core-web-sm==3.1.0) (20.9)\n",
      "Requirement already satisfied: thinc<8.1.0,>=8.0.9 in c:\\users\\abhinav\\anaconda3\\lib\\site-packages (from spacy<3.2.0,>=3.1.0->en-core-web-sm==3.1.0) (8.0.10)\n",
      "Requirement already satisfied: pathy>=0.3.5 in c:\\users\\abhinav\\anaconda3\\lib\\site-packages (from spacy<3.2.0,>=3.1.0->en-core-web-sm==3.1.0) (0.6.0)\n",
      "Requirement already satisfied: pydantic!=1.8,!=1.8.1,<1.9.0,>=1.7.4 in c:\\users\\abhinav\\anaconda3\\lib\\site-packages (from spacy<3.2.0,>=3.1.0->en-core-web-sm==3.1.0) (1.8.2)\n",
      "Requirement already satisfied: wasabi<1.1.0,>=0.8.1 in c:\\users\\abhinav\\anaconda3\\lib\\site-packages (from spacy<3.2.0,>=3.1.0->en-core-web-sm==3.1.0) (0.8.2)\n",
      "Requirement already satisfied: pyparsing>=2.0.2 in c:\\users\\abhinav\\anaconda3\\lib\\site-packages (from packaging>=20.0->spacy<3.2.0,>=3.1.0->en-core-web-sm==3.1.0) (2.4.7)\n",
      "Requirement already satisfied: smart-open<6.0.0,>=5.0.0 in c:\\users\\abhinav\\anaconda3\\lib\\site-packages (from pathy>=0.3.5->spacy<3.2.0,>=3.1.0->en-core-web-sm==3.1.0) (5.2.1)\n",
      "Requirement already satisfied: typing-extensions>=3.7.4.3 in c:\\users\\abhinav\\anaconda3\\lib\\site-packages (from pydantic!=1.8,!=1.8.1,<1.9.0,>=1.7.4->spacy<3.2.0,>=3.1.0->en-core-web-sm==3.1.0) (3.7.4.3)\n",
      "Requirement already satisfied: certifi>=2017.4.17 in c:\\users\\abhinav\\anaconda3\\lib\\site-packages (from requests<3.0.0,>=2.13.0->spacy<3.2.0,>=3.1.0->en-core-web-sm==3.1.0) (2020.12.5)\n",
      "Requirement already satisfied: chardet<5,>=3.0.2 in c:\\users\\abhinav\\anaconda3\\lib\\site-packages (from requests<3.0.0,>=2.13.0->spacy<3.2.0,>=3.1.0->en-core-web-sm==3.1.0) (4.0.0)\n",
      "Requirement already satisfied: urllib3<1.27,>=1.21.1 in c:\\users\\abhinav\\anaconda3\\lib\\site-packages (from requests<3.0.0,>=2.13.0->spacy<3.2.0,>=3.1.0->en-core-web-sm==3.1.0) (1.26.4)\n",
      "Requirement already satisfied: idna<3,>=2.5 in c:\\users\\abhinav\\anaconda3\\lib\\site-packages (from requests<3.0.0,>=2.13.0->spacy<3.2.0,>=3.1.0->en-core-web-sm==3.1.0) (2.10)\n",
      "Requirement already satisfied: click<9.0.0,>=7.1.1 in c:\\users\\abhinav\\anaconda3\\lib\\site-packages (from typer<0.5.0,>=0.3.0->spacy<3.2.0,>=3.1.0->en-core-web-sm==3.1.0) (7.1.2)\n",
      "Requirement already satisfied: MarkupSafe>=0.23 in c:\\users\\abhinav\\anaconda3\\lib\\site-packages (from jinja2->spacy<3.2.0,>=3.1.0->en-core-web-sm==3.1.0) (1.1.1)\n",
      "Installing collected packages: en-core-web-sm\n",
      "Successfully installed en-core-web-sm-3.1.0\n",
      "[!] As of spaCy v3.0, shortcuts like 'en' are deprecated. Please use the full\n",
      "pipeline package name 'en_core_web_sm' instead.\n",
      "[+] Download and installation successful\n",
      "You can now load the package via spacy.load('en_core_web_sm')\n"
     ]
    },
    {
     "name": "stderr",
     "output_type": "stream",
     "text": [
      "2021-10-20 11:42:00.761378: W tensorflow/stream_executor/platform/default/dso_loader.cc:64] Could not load dynamic library 'cudart64_110.dll'; dlerror: cudart64_110.dll not found\n",
      "2021-10-20 11:42:00.761378: I tensorflow/stream_executor/cuda/cudart_stub.cc:29] Ignore above cudart dlerror if you do not have a GPU set up on your machine.\n"
     ]
    }
   ],
   "source": [
    "!python -m spacy download en"
   ]
  },
  {
   "cell_type": "code",
   "execution_count": 42,
   "id": "386e271a",
   "metadata": {
    "ExecuteTime": {
     "end_time": "2021-10-20T06:12:32.905217Z",
     "start_time": "2021-10-20T06:12:30.985107Z"
    }
   },
   "outputs": [],
   "source": [
    "nlp = spacy.load('en_core_web_sm')\n",
    "sentiment_lexicon = affinity_scores\n",
    "\n",
    "def calculate_sentiment(text: str = None):\n",
    "    sent_score = 0\n",
    "    if text:\n",
    "        sentence = nlp(text)\n",
    "        for word in sentence:\n",
    "            sent_score += sentiment_lexicon.get(word.lemma_, 0)\n",
    "    return sent_score "
   ]
  },
  {
   "cell_type": "code",
   "execution_count": 43,
   "id": "502c24d8",
   "metadata": {
    "ExecuteTime": {
     "end_time": "2021-10-20T06:12:59.308727Z",
     "start_time": "2021-10-20T06:12:58.893703Z"
    }
   },
   "outputs": [
    {
     "data": {
      "text/plain": [
       "4"
      ]
     },
     "execution_count": 43,
     "metadata": {},
     "output_type": "execute_result"
    }
   ],
   "source": [
    "calculate_sentiment(text = 'amazing') "
   ]
  },
  {
   "cell_type": "code",
   "execution_count": 45,
   "id": "03f33dd7",
   "metadata": {
    "ExecuteTime": {
     "end_time": "2021-10-20T06:15:36.257889Z",
     "start_time": "2021-10-20T06:15:13.350782Z"
    }
   },
   "outputs": [],
   "source": [
    "elon['sentiment_value'] = elon['Text'].apply(calculate_sentiment) "
   ]
  },
  {
   "cell_type": "code",
   "execution_count": 46,
   "id": "ab18ee1f",
   "metadata": {
    "ExecuteTime": {
     "end_time": "2021-10-20T06:16:08.201716Z",
     "start_time": "2021-10-20T06:16:08.165714Z"
    }
   },
   "outputs": [
    {
     "data": {
      "text/plain": [
       "0     4\n",
       "1    13\n",
       "2     4\n",
       "3     4\n",
       "4    17\n",
       "5     7\n",
       "6    14\n",
       "7     6\n",
       "8    11\n",
       "9     8\n",
       "Name: word_count, dtype: int64"
      ]
     },
     "execution_count": 46,
     "metadata": {},
     "output_type": "execute_result"
    }
   ],
   "source": [
    "elon['word_count'] = elon['Text'].str.split().apply(len)\n",
    "elon['word_count'].head(10) "
   ]
  },
  {
   "cell_type": "code",
   "execution_count": 47,
   "id": "73496020",
   "metadata": {
    "ExecuteTime": {
     "end_time": "2021-10-20T06:16:38.871471Z",
     "start_time": "2021-10-20T06:16:38.834469Z"
    }
   },
   "outputs": [
    {
     "data": {
      "text/html": [
       "<div>\n",
       "<style scoped>\n",
       "    .dataframe tbody tr th:only-of-type {\n",
       "        vertical-align: middle;\n",
       "    }\n",
       "\n",
       "    .dataframe tbody tr th {\n",
       "        vertical-align: top;\n",
       "    }\n",
       "\n",
       "    .dataframe thead th {\n",
       "        text-align: right;\n",
       "    }\n",
       "</style>\n",
       "<table border=\"1\" class=\"dataframe\">\n",
       "  <thead>\n",
       "    <tr style=\"text-align: right;\">\n",
       "      <th></th>\n",
       "      <th>Unnamed: 0</th>\n",
       "      <th>Text</th>\n",
       "      <th>sentiment_value</th>\n",
       "      <th>word_count</th>\n",
       "    </tr>\n",
       "  </thead>\n",
       "  <tbody>\n",
       "    <tr>\n",
       "      <th>0</th>\n",
       "      <td>1</td>\n",
       "      <td>@kunalb11 I�m an alien</td>\n",
       "      <td>0</td>\n",
       "      <td>4</td>\n",
       "    </tr>\n",
       "    <tr>\n",
       "      <th>1</th>\n",
       "      <td>2</td>\n",
       "      <td>@ID_AA_Carmack Ray tracing on Cyberpunk with H...</td>\n",
       "      <td>0</td>\n",
       "      <td>13</td>\n",
       "    </tr>\n",
       "    <tr>\n",
       "      <th>2</th>\n",
       "      <td>3</td>\n",
       "      <td>@joerogan @Spotify Great interview!</td>\n",
       "      <td>3</td>\n",
       "      <td>4</td>\n",
       "    </tr>\n",
       "    <tr>\n",
       "      <th>3</th>\n",
       "      <td>4</td>\n",
       "      <td>@gtera27 Doge is underestimated</td>\n",
       "      <td>-1</td>\n",
       "      <td>4</td>\n",
       "    </tr>\n",
       "    <tr>\n",
       "      <th>4</th>\n",
       "      <td>5</td>\n",
       "      <td>@teslacn Congratulations Tesla China for amazi...</td>\n",
       "      <td>4</td>\n",
       "      <td>17</td>\n",
       "    </tr>\n",
       "    <tr>\n",
       "      <th>...</th>\n",
       "      <td>...</td>\n",
       "      <td>...</td>\n",
       "      <td>...</td>\n",
       "      <td>...</td>\n",
       "    </tr>\n",
       "    <tr>\n",
       "      <th>1994</th>\n",
       "      <td>1995</td>\n",
       "      <td>@flcnhvy True, it sounds so surreal, but the n...</td>\n",
       "      <td>-3</td>\n",
       "      <td>23</td>\n",
       "    </tr>\n",
       "    <tr>\n",
       "      <th>1995</th>\n",
       "      <td>1996</td>\n",
       "      <td>@PPathole Make sure to read ur terms &amp;amp; con...</td>\n",
       "      <td>1</td>\n",
       "      <td>12</td>\n",
       "    </tr>\n",
       "    <tr>\n",
       "      <th>1996</th>\n",
       "      <td>1997</td>\n",
       "      <td>@TeslaGong @PPathole Samwise Gamgee</td>\n",
       "      <td>0</td>\n",
       "      <td>4</td>\n",
       "    </tr>\n",
       "    <tr>\n",
       "      <th>1997</th>\n",
       "      <td>1998</td>\n",
       "      <td>@PPathole Altho Dumb and Dumber is &lt;U+0001F525...</td>\n",
       "      <td>0</td>\n",
       "      <td>7</td>\n",
       "    </tr>\n",
       "    <tr>\n",
       "      <th>1998</th>\n",
       "      <td>1999</td>\n",
       "      <td>Progress update August 28</td>\n",
       "      <td>2</td>\n",
       "      <td>4</td>\n",
       "    </tr>\n",
       "  </tbody>\n",
       "</table>\n",
       "<p>1999 rows × 4 columns</p>\n",
       "</div>"
      ],
      "text/plain": [
       "      Unnamed: 0                                               Text  \\\n",
       "0              1                             @kunalb11 I�m an alien   \n",
       "1              2  @ID_AA_Carmack Ray tracing on Cyberpunk with H...   \n",
       "2              3                @joerogan @Spotify Great interview!   \n",
       "3              4                    @gtera27 Doge is underestimated   \n",
       "4              5  @teslacn Congratulations Tesla China for amazi...   \n",
       "...          ...                                                ...   \n",
       "1994        1995  @flcnhvy True, it sounds so surreal, but the n...   \n",
       "1995        1996  @PPathole Make sure to read ur terms &amp; con...   \n",
       "1996        1997                @TeslaGong @PPathole Samwise Gamgee   \n",
       "1997        1998  @PPathole Altho Dumb and Dumber is <U+0001F525...   \n",
       "1998        1999                          Progress update August 28   \n",
       "\n",
       "      sentiment_value  word_count  \n",
       "0                   0           4  \n",
       "1                   0          13  \n",
       "2                   3           4  \n",
       "3                  -1           4  \n",
       "4                   4          17  \n",
       "...               ...         ...  \n",
       "1994               -3          23  \n",
       "1995                1          12  \n",
       "1996                0           4  \n",
       "1997                0           7  \n",
       "1998                2           4  \n",
       "\n",
       "[1999 rows x 4 columns]"
      ]
     },
     "execution_count": 47,
     "metadata": {},
     "output_type": "execute_result"
    }
   ],
   "source": [
    "elon"
   ]
  },
  {
   "cell_type": "code",
   "execution_count": 48,
   "id": "54dbe883",
   "metadata": {
    "ExecuteTime": {
     "end_time": "2021-10-20T06:17:07.941133Z",
     "start_time": "2021-10-20T06:17:07.923132Z"
    }
   },
   "outputs": [
    {
     "data": {
      "text/html": [
       "<div>\n",
       "<style scoped>\n",
       "    .dataframe tbody tr th:only-of-type {\n",
       "        vertical-align: middle;\n",
       "    }\n",
       "\n",
       "    .dataframe tbody tr th {\n",
       "        vertical-align: top;\n",
       "    }\n",
       "\n",
       "    .dataframe thead th {\n",
       "        text-align: right;\n",
       "    }\n",
       "</style>\n",
       "<table border=\"1\" class=\"dataframe\">\n",
       "  <thead>\n",
       "    <tr style=\"text-align: right;\">\n",
       "      <th></th>\n",
       "      <th>Unnamed: 0</th>\n",
       "      <th>Text</th>\n",
       "      <th>sentiment_value</th>\n",
       "      <th>word_count</th>\n",
       "    </tr>\n",
       "  </thead>\n",
       "  <tbody>\n",
       "    <tr>\n",
       "      <th>1097</th>\n",
       "      <td>1098</td>\n",
       "      <td>@Kristennetten @flcnhvy One of my favorite wri...</td>\n",
       "      <td>7</td>\n",
       "      <td>19</td>\n",
       "    </tr>\n",
       "    <tr>\n",
       "      <th>514</th>\n",
       "      <td>515</td>\n",
       "      <td>@Space_Station @SpaceX Wow, Station looks amaz...</td>\n",
       "      <td>8</td>\n",
       "      <td>6</td>\n",
       "    </tr>\n",
       "    <tr>\n",
       "      <th>1966</th>\n",
       "      <td>1967</td>\n",
       "      <td>@nichegamer I didn�t mind DA2. DA1 was awesome...</td>\n",
       "      <td>8</td>\n",
       "      <td>16</td>\n",
       "    </tr>\n",
       "    <tr>\n",
       "      <th>1786</th>\n",
       "      <td>1787</td>\n",
       "      <td>@flcnhvy @yourfavgas @ajtourville I really wan...</td>\n",
       "      <td>8</td>\n",
       "      <td>19</td>\n",
       "    </tr>\n",
       "    <tr>\n",
       "      <th>1172</th>\n",
       "      <td>1173</td>\n",
       "      <td>Thanks Tesla Team for great work on deliveries...</td>\n",
       "      <td>10</td>\n",
       "      <td>20</td>\n",
       "    </tr>\n",
       "    <tr>\n",
       "      <th>468</th>\n",
       "      <td>469</td>\n",
       "      <td>@picot_john @CyberpunkGame It�s a good to grea...</td>\n",
       "      <td>10</td>\n",
       "      <td>20</td>\n",
       "    </tr>\n",
       "    <tr>\n",
       "      <th>1357</th>\n",
       "      <td>1358</td>\n",
       "      <td>Great trip to Germany. Support from government...</td>\n",
       "      <td>10</td>\n",
       "      <td>12</td>\n",
       "    </tr>\n",
       "    <tr>\n",
       "      <th>458</th>\n",
       "      <td>459</td>\n",
       "      <td>@teslaownerssv It will get absurdly good. Tesl...</td>\n",
       "      <td>10</td>\n",
       "      <td>18</td>\n",
       "    </tr>\n",
       "    <tr>\n",
       "      <th>1304</th>\n",
       "      <td>1305</td>\n",
       "      <td>One way or another, excitement guaranteed! Sup...</td>\n",
       "      <td>11</td>\n",
       "      <td>17</td>\n",
       "    </tr>\n",
       "    <tr>\n",
       "      <th>1388</th>\n",
       "      <td>1389</td>\n",
       "      <td>@GerberKawasaki Wow, I super loved astronomy (...</td>\n",
       "      <td>12</td>\n",
       "      <td>20</td>\n",
       "    </tr>\n",
       "  </tbody>\n",
       "</table>\n",
       "</div>"
      ],
      "text/plain": [
       "      Unnamed: 0                                               Text  \\\n",
       "1097        1098  @Kristennetten @flcnhvy One of my favorite wri...   \n",
       "514          515  @Space_Station @SpaceX Wow, Station looks amaz...   \n",
       "1966        1967  @nichegamer I didn�t mind DA2. DA1 was awesome...   \n",
       "1786        1787  @flcnhvy @yourfavgas @ajtourville I really wan...   \n",
       "1172        1173  Thanks Tesla Team for great work on deliveries...   \n",
       "468          469  @picot_john @CyberpunkGame It�s a good to grea...   \n",
       "1357        1358  Great trip to Germany. Support from government...   \n",
       "458          459  @teslaownerssv It will get absurdly good. Tesl...   \n",
       "1304        1305  One way or another, excitement guaranteed! Sup...   \n",
       "1388        1389  @GerberKawasaki Wow, I super loved astronomy (...   \n",
       "\n",
       "      sentiment_value  word_count  \n",
       "1097                7          19  \n",
       "514                 8           6  \n",
       "1966                8          16  \n",
       "1786                8          19  \n",
       "1172               10          20  \n",
       "468                10          20  \n",
       "1357               10          12  \n",
       "458                10          18  \n",
       "1304               11          17  \n",
       "1388               12          20  "
      ]
     },
     "execution_count": 48,
     "metadata": {},
     "output_type": "execute_result"
    }
   ],
   "source": [
    "elon.sort_values(by='sentiment_value').tail(10)"
   ]
  },
  {
   "cell_type": "code",
   "execution_count": 49,
   "id": "3f23fd51",
   "metadata": {
    "ExecuteTime": {
     "end_time": "2021-10-20T06:17:39.570942Z",
     "start_time": "2021-10-20T06:17:39.469937Z"
    }
   },
   "outputs": [
    {
     "data": {
      "text/plain": [
       "count    1999.000000\n",
       "mean        0.669835\n",
       "std         1.745019\n",
       "min        -7.000000\n",
       "25%         0.000000\n",
       "50%         0.000000\n",
       "75%         1.000000\n",
       "max        12.000000\n",
       "Name: sentiment_value, dtype: float64"
      ]
     },
     "execution_count": 49,
     "metadata": {},
     "output_type": "execute_result"
    }
   ],
   "source": [
    "elon['sentiment_value'].describe() "
   ]
  },
  {
   "cell_type": "code",
   "execution_count": 50,
   "id": "962c669b",
   "metadata": {
    "ExecuteTime": {
     "end_time": "2021-10-20T06:18:23.509654Z",
     "start_time": "2021-10-20T06:18:23.194636Z"
    }
   },
   "outputs": [
    {
     "data": {
      "text/html": [
       "<div>\n",
       "<style scoped>\n",
       "    .dataframe tbody tr th:only-of-type {\n",
       "        vertical-align: middle;\n",
       "    }\n",
       "\n",
       "    .dataframe tbody tr th {\n",
       "        vertical-align: top;\n",
       "    }\n",
       "\n",
       "    .dataframe thead th {\n",
       "        text-align: right;\n",
       "    }\n",
       "</style>\n",
       "<table border=\"1\" class=\"dataframe\">\n",
       "  <thead>\n",
       "    <tr style=\"text-align: right;\">\n",
       "      <th></th>\n",
       "      <th>Unnamed: 0</th>\n",
       "      <th>Text</th>\n",
       "      <th>sentiment_value</th>\n",
       "      <th>word_count</th>\n",
       "    </tr>\n",
       "  </thead>\n",
       "  <tbody>\n",
       "    <tr>\n",
       "      <th>0</th>\n",
       "      <td>1</td>\n",
       "      <td>@kunalb11 I�m an alien</td>\n",
       "      <td>0</td>\n",
       "      <td>4</td>\n",
       "    </tr>\n",
       "    <tr>\n",
       "      <th>1</th>\n",
       "      <td>2</td>\n",
       "      <td>@ID_AA_Carmack Ray tracing on Cyberpunk with H...</td>\n",
       "      <td>0</td>\n",
       "      <td>13</td>\n",
       "    </tr>\n",
       "    <tr>\n",
       "      <th>3</th>\n",
       "      <td>4</td>\n",
       "      <td>@gtera27 Doge is underestimated</td>\n",
       "      <td>-1</td>\n",
       "      <td>4</td>\n",
       "    </tr>\n",
       "    <tr>\n",
       "      <th>5</th>\n",
       "      <td>6</td>\n",
       "      <td>Happy New Year of the Ox! https://t.co/9WFKMYu2oj</td>\n",
       "      <td>0</td>\n",
       "      <td>7</td>\n",
       "    </tr>\n",
       "    <tr>\n",
       "      <th>6</th>\n",
       "      <td>7</td>\n",
       "      <td>Frodo was the underdoge,\\nAll thought he would...</td>\n",
       "      <td>-2</td>\n",
       "      <td>14</td>\n",
       "    </tr>\n",
       "  </tbody>\n",
       "</table>\n",
       "</div>"
      ],
      "text/plain": [
       "   Unnamed: 0                                               Text  \\\n",
       "0           1                             @kunalb11 I�m an alien   \n",
       "1           2  @ID_AA_Carmack Ray tracing on Cyberpunk with H...   \n",
       "3           4                    @gtera27 Doge is underestimated   \n",
       "5           6  Happy New Year of the Ox! https://t.co/9WFKMYu2oj   \n",
       "6           7  Frodo was the underdoge,\\nAll thought he would...   \n",
       "\n",
       "   sentiment_value  word_count  \n",
       "0                0           4  \n",
       "1                0          13  \n",
       "3               -1           4  \n",
       "5                0           7  \n",
       "6               -2          14  "
      ]
     },
     "execution_count": 50,
     "metadata": {},
     "output_type": "execute_result"
    }
   ],
   "source": [
    "elon[elon['sentiment_value']<=0].head() "
   ]
  },
  {
   "cell_type": "code",
   "execution_count": 53,
   "id": "35b0f0a6",
   "metadata": {
    "ExecuteTime": {
     "end_time": "2021-10-20T06:19:18.920823Z",
     "start_time": "2021-10-20T06:19:18.892822Z"
    }
   },
   "outputs": [
    {
     "data": {
      "text/html": [
       "<div>\n",
       "<style scoped>\n",
       "    .dataframe tbody tr th:only-of-type {\n",
       "        vertical-align: middle;\n",
       "    }\n",
       "\n",
       "    .dataframe tbody tr th {\n",
       "        vertical-align: top;\n",
       "    }\n",
       "\n",
       "    .dataframe thead th {\n",
       "        text-align: right;\n",
       "    }\n",
       "</style>\n",
       "<table border=\"1\" class=\"dataframe\">\n",
       "  <thead>\n",
       "    <tr style=\"text-align: right;\">\n",
       "      <th></th>\n",
       "      <th>Unnamed: 0</th>\n",
       "      <th>Text</th>\n",
       "      <th>sentiment_value</th>\n",
       "      <th>word_count</th>\n",
       "    </tr>\n",
       "  </thead>\n",
       "  <tbody>\n",
       "    <tr>\n",
       "      <th>458</th>\n",
       "      <td>459</td>\n",
       "      <td>@teslaownerssv It will get absurdly good. Tesl...</td>\n",
       "      <td>10</td>\n",
       "      <td>18</td>\n",
       "    </tr>\n",
       "    <tr>\n",
       "      <th>468</th>\n",
       "      <td>469</td>\n",
       "      <td>@picot_john @CyberpunkGame It�s a good to grea...</td>\n",
       "      <td>10</td>\n",
       "      <td>20</td>\n",
       "    </tr>\n",
       "    <tr>\n",
       "      <th>1172</th>\n",
       "      <td>1173</td>\n",
       "      <td>Thanks Tesla Team for great work on deliveries...</td>\n",
       "      <td>10</td>\n",
       "      <td>20</td>\n",
       "    </tr>\n",
       "    <tr>\n",
       "      <th>1304</th>\n",
       "      <td>1305</td>\n",
       "      <td>One way or another, excitement guaranteed! Sup...</td>\n",
       "      <td>11</td>\n",
       "      <td>17</td>\n",
       "    </tr>\n",
       "    <tr>\n",
       "      <th>1357</th>\n",
       "      <td>1358</td>\n",
       "      <td>Great trip to Germany. Support from government...</td>\n",
       "      <td>10</td>\n",
       "      <td>12</td>\n",
       "    </tr>\n",
       "  </tbody>\n",
       "</table>\n",
       "</div>"
      ],
      "text/plain": [
       "      Unnamed: 0                                               Text  \\\n",
       "458          459  @teslaownerssv It will get absurdly good. Tesl...   \n",
       "468          469  @picot_john @CyberpunkGame It�s a good to grea...   \n",
       "1172        1173  Thanks Tesla Team for great work on deliveries...   \n",
       "1304        1305  One way or another, excitement guaranteed! Sup...   \n",
       "1357        1358  Great trip to Germany. Support from government...   \n",
       "\n",
       "      sentiment_value  word_count  \n",
       "458                10          18  \n",
       "468                10          20  \n",
       "1172               10          20  \n",
       "1304               11          17  \n",
       "1357               10          12  "
      ]
     },
     "execution_count": 53,
     "metadata": {},
     "output_type": "execute_result"
    }
   ],
   "source": [
    "elon[elon['sentiment_value']>=10].head() "
   ]
  },
  {
   "cell_type": "code",
   "execution_count": 54,
   "id": "d5fbf7a9",
   "metadata": {
    "ExecuteTime": {
     "end_time": "2021-10-20T06:19:58.292670Z",
     "start_time": "2021-10-20T06:19:58.280669Z"
    }
   },
   "outputs": [],
   "source": [
    "elon['index']=range(0,len(elon)) "
   ]
  },
  {
   "cell_type": "code",
   "execution_count": 55,
   "id": "b71f48ef",
   "metadata": {
    "ExecuteTime": {
     "end_time": "2021-10-20T06:20:39.819045Z",
     "start_time": "2021-10-20T06:20:34.128720Z"
    }
   },
   "outputs": [
    {
     "name": "stderr",
     "output_type": "stream",
     "text": [
      "C:\\Users\\Abhinav\\anaconda3\\lib\\site-packages\\seaborn\\distributions.py:2557: FutureWarning: `distplot` is a deprecated function and will be removed in a future version. Please adapt your code to use either `displot` (a figure-level function with similar flexibility) or `histplot` (an axes-level function for histograms).\n",
      "  warnings.warn(msg, FutureWarning)\n"
     ]
    },
    {
     "data": {
      "text/plain": [
       "<AxesSubplot:xlabel='sentiment_value', ylabel='Density'>"
      ]
     },
     "execution_count": 55,
     "metadata": {},
     "output_type": "execute_result"
    },
    {
     "data": {
      "image/png": "[encoded data removed]",
      "text/plain": [
       "<Figure size 432x288 with 1 Axes>"
      ]
     },
     "metadata": {
      "needs_background": "light"
     },
     "output_type": "display_data"
    }
   ],
   "source": [
    "import seaborn as sns\n",
    "import matplotlib.pyplot as plt\n",
    "sns.distplot(elon['sentiment_value']) "
   ]
  },
  {
   "cell_type": "code",
   "execution_count": 56,
   "id": "36a663c1",
   "metadata": {
    "ExecuteTime": {
     "end_time": "2021-10-20T06:21:23.075718Z",
     "start_time": "2021-10-20T06:21:22.047659Z"
    }
   },
   "outputs": [
    {
     "data": {
      "text/plain": [
       "<AxesSubplot:xlabel='index', ylabel='sentiment_value'>"
      ]
     },
     "execution_count": 56,
     "metadata": {},
     "output_type": "execute_result"
    },
    {
     "data": {
      "image/png": "[encoded data removed]",
      "text/plain": [
       "<Figure size 1080x720 with 1 Axes>"
      ]
     },
     "metadata": {
      "needs_background": "light"
     },
     "output_type": "display_data"
    }
   ],
   "source": [
    "plt.figure(figsize=(15, 10))\n",
    "sns.lineplot(y='sentiment_value',x='index',data=elon) "
   ]
  },
  {
   "cell_type": "code",
   "execution_count": 57,
   "id": "88a4be1a",
   "metadata": {
    "ExecuteTime": {
     "end_time": "2021-10-20T06:22:00.228843Z",
     "start_time": "2021-10-20T06:21:59.317791Z"
    }
   },
   "outputs": [
    {
     "data": {
      "text/plain": [
       "<AxesSubplot:title={'center':'Sentence sentiment value to sentence word count'}, xlabel='word_count', ylabel='sentiment_value'>"
      ]
     },
     "execution_count": 57,
     "metadata": {},
     "output_type": "execute_result"
    },
    {
     "data": {
      "image/png": "[encoded data removed]",
      "text/plain": [
       "<Figure size 576x576 with 1 Axes>"
      ]
     },
     "metadata": {
      "needs_background": "light"
     },
     "output_type": "display_data"
    }
   ],
   "source": [
    "elon.plot.scatter(x='word_count', y='sentiment_value', figsize=(8,8), title='Sentence sentiment value to sentence word count')"
   ]
  },
  {
   "cell_type": "code",
   "execution_count": null,
   "id": "92856e41",
   "metadata": {},
   "outputs": [],
   "source": []
  },
  {
   "cell_type": "code",
   "execution_count": 58,
   "id": "ec285f80",
   "metadata": {
    "ExecuteTime": {
     "end_time": "2021-10-20T06:23:32.498120Z",
     "start_time": "2021-10-20T06:23:32.492120Z"
    }
   },
   "outputs": [],
   "source": [
    "#emotion mining on e-commerce reviews"
   ]
  },
  {
   "cell_type": "code",
   "execution_count": 62,
   "id": "a4ff3d7e",
   "metadata": {
    "ExecuteTime": {
     "end_time": "2021-10-20T06:25:01.895828Z",
     "start_time": "2021-10-20T06:25:01.873827Z"
    }
   },
   "outputs": [
    {
     "name": "stderr",
     "output_type": "stream",
     "text": [
      "b'Skipping line 6: expected 1 fields, saw 14\\n'\n"
     ]
    }
   ],
   "source": [
    "apple=pd.read_csv(\"apple.txt\",error_bad_lines=False)\n",
    "apple = [x.strip() for x in apple.x] \n",
    "apple = [x for x in apple if x] "
   ]
  },
  {
   "cell_type": "code",
   "execution_count": 66,
   "id": "9a8d80ea",
   "metadata": {
    "ExecuteTime": {
     "end_time": "2021-10-20T06:28:48.238166Z",
     "start_time": "2021-10-20T06:28:36.628502Z"
    }
   },
   "outputs": [
    {
     "name": "stderr",
     "output_type": "stream",
     "text": [
      "[nltk_data] Downloading package punkt to\n",
      "[nltk_data]     C:\\Users\\Abhinav\\AppData\\Roaming\\nltk_data...\n",
      "[nltk_data]   Unzipping tokenizers\\punkt.zip.\n"
     ]
    },
    {
     "data": {
      "text/plain": [
       "True"
      ]
     },
     "execution_count": 66,
     "metadata": {},
     "output_type": "execute_result"
    }
   ],
   "source": [
    "import nltk\n",
    "nltk.download('punkt')"
   ]
  },
  {
   "cell_type": "code",
   "execution_count": 67,
   "id": "af8c5e8b",
   "metadata": {
    "ExecuteTime": {
     "end_time": "2021-10-20T06:28:50.765311Z",
     "start_time": "2021-10-20T06:28:50.710308Z"
    }
   },
   "outputs": [
    {
     "data": {
      "text/plain": [
       "['), all printers are not compatible (e.g.',\n",
       " \"the most economical MFD laser printer RICOH SP 111 can't be used), huge compatibility issues with Pages (MS Word) and Keynote (powerpoint) unless you master it by working on these (still mostly the document and slides either do not open in windows environment or have distortion issues).\",\n",
       " 'you need to spend extra for an external CD writer and tp buy a carry bag.',\n",
       " 'Mac con not be connected to most of the projectors unless you buy some connectors, which are expensive and theres no clarity which one to buy and from where.',\n",
       " \"you can't connect it to your TV, the ports are different and again theres no clarity - customer support, manuals or help section are silent !\",\n",
       " 'Marketing strategy for Indian market, if at all has been planned, has been very bad.',\n",
       " 'If these critical issues (and a few more not mentioned here) are handled properly, the Mac can sweep away other laptops in India.',\n",
       " \"Presently, it doesn't seem to be happening.Overall Verdict.If compatibility issues mentioned above do not bother you, go for it.\",\n",
       " 'Else, think hard.',\n",
       " 'If its an emotional issue to own a long cherished Mac, then its a different thing.']"
      ]
     },
     "execution_count": 67,
     "metadata": {},
     "output_type": "execute_result"
    }
   ],
   "source": [
    "from nltk import tokenize\n",
    "sentences = tokenize.sent_tokenize(\" \".join(apple))\n",
    "sentences[5:15] "
   ]
  },
  {
   "cell_type": "code",
   "execution_count": 68,
   "id": "86e57a7c",
   "metadata": {
    "ExecuteTime": {
     "end_time": "2021-10-20T06:29:55.279001Z",
     "start_time": "2021-10-20T06:29:55.255000Z"
    }
   },
   "outputs": [
    {
     "data": {
      "text/html": [
       "<div>\n",
       "<style scoped>\n",
       "    .dataframe tbody tr th:only-of-type {\n",
       "        vertical-align: middle;\n",
       "    }\n",
       "\n",
       "    .dataframe tbody tr th {\n",
       "        vertical-align: top;\n",
       "    }\n",
       "\n",
       "    .dataframe thead th {\n",
       "        text-align: right;\n",
       "    }\n",
       "</style>\n",
       "<table border=\"1\" class=\"dataframe\">\n",
       "  <thead>\n",
       "    <tr style=\"text-align: right;\">\n",
       "      <th></th>\n",
       "      <th>sentence</th>\n",
       "    </tr>\n",
       "  </thead>\n",
       "  <tbody>\n",
       "    <tr>\n",
       "      <th>0</th>\n",
       "      <td>It's amazing..... battery last around 10 -12 h...</td>\n",
       "    </tr>\n",
       "    <tr>\n",
       "      <th>1</th>\n",
       "      <td>Got it in 50k in Diwali sale.</td>\n",
       "    </tr>\n",
       "    <tr>\n",
       "      <th>2</th>\n",
       "      <td>Technically good laptop.Good News.luxury produ...</td>\n",
       "    </tr>\n",
       "    <tr>\n",
       "      <th>3</th>\n",
       "      <td>Terrific sense of possession &amp; pride.Bad News.</td>\n",
       "    </tr>\n",
       "    <tr>\n",
       "      <th>4</th>\n",
       "      <td>Problems will be there if you are switching fr...</td>\n",
       "    </tr>\n",
       "    <tr>\n",
       "      <th>...</th>\n",
       "      <td>...</td>\n",
       "    </tr>\n",
       "    <tr>\n",
       "      <th>182</th>\n",
       "      <td>You can get one of the best movie experiences ...</td>\n",
       "    </tr>\n",
       "    <tr>\n",
       "      <th>183</th>\n",
       "      <td>Overall I would it a 4.5/5.</td>\n",
       "    </tr>\n",
       "    <tr>\n",
       "      <th>184</th>\n",
       "      <td>I got a great deal on this laptop, which I hav...</td>\n",
       "    </tr>\n",
       "    <tr>\n",
       "      <th>185</th>\n",
       "      <td>I got it not only on discount but also was abl...</td>\n",
       "    </tr>\n",
       "    <tr>\n",
       "      <th>186</th>\n",
       "      <td>Laptop works really well, it was a good purchase!</td>\n",
       "    </tr>\n",
       "  </tbody>\n",
       "</table>\n",
       "<p>187 rows × 1 columns</p>\n",
       "</div>"
      ],
      "text/plain": [
       "                                              sentence\n",
       "0    It's amazing..... battery last around 10 -12 h...\n",
       "1                        Got it in 50k in Diwali sale.\n",
       "2    Technically good laptop.Good News.luxury produ...\n",
       "3       Terrific sense of possession & pride.Bad News.\n",
       "4    Problems will be there if you are switching fr...\n",
       "..                                                 ...\n",
       "182  You can get one of the best movie experiences ...\n",
       "183                        Overall I would it a 4.5/5.\n",
       "184  I got a great deal on this laptop, which I hav...\n",
       "185  I got it not only on discount but also was abl...\n",
       "186  Laptop works really well, it was a good purchase!\n",
       "\n",
       "[187 rows x 1 columns]"
      ]
     },
     "execution_count": 68,
     "metadata": {},
     "output_type": "execute_result"
    }
   ],
   "source": [
    "sent_df = pd.DataFrame(sentences, columns=['sentence'])\n",
    "sent_df "
   ]
  },
  {
   "cell_type": "code",
   "execution_count": 69,
   "id": "85d5a1a9",
   "metadata": {
    "ExecuteTime": {
     "end_time": "2021-10-20T06:30:01.744371Z",
     "start_time": "2021-10-20T06:30:01.729370Z"
    }
   },
   "outputs": [],
   "source": [
    "affinity_scores = afinn.set_index('word')['value'].to_dict()"
   ]
  },
  {
   "cell_type": "code",
   "execution_count": 70,
   "id": "f1ddf3fc",
   "metadata": {
    "ExecuteTime": {
     "end_time": "2021-10-20T06:30:05.441582Z",
     "start_time": "2021-10-20T06:30:04.655537Z"
    }
   },
   "outputs": [],
   "source": [
    "nlp = spacy.load('en_core_web_sm')\n",
    "sentiment_lexicon = affinity_scores\n",
    "\n",
    "def calculate_sentiment(text: str = None):\n",
    "    sent_score = 0\n",
    "    if text:\n",
    "        sentence = nlp(text)\n",
    "        for word in sentence:\n",
    "            sent_score += sentiment_lexicon.get(word.lemma_, 0)\n",
    "    return sent_score "
   ]
  },
  {
   "cell_type": "code",
   "execution_count": 71,
   "id": "d2837a65",
   "metadata": {
    "ExecuteTime": {
     "end_time": "2021-10-20T06:31:03.518904Z",
     "start_time": "2021-10-20T06:31:00.682742Z"
    }
   },
   "outputs": [],
   "source": [
    "sent_df['sentiment_value'] = sent_df['sentence'].apply(calculate_sentiment) "
   ]
  },
  {
   "cell_type": "code",
   "execution_count": 72,
   "id": "45aa8d34",
   "metadata": {
    "ExecuteTime": {
     "end_time": "2021-10-20T06:31:04.703972Z",
     "start_time": "2021-10-20T06:31:04.682971Z"
    }
   },
   "outputs": [
    {
     "data": {
      "text/html": [
       "<div>\n",
       "<style scoped>\n",
       "    .dataframe tbody tr th:only-of-type {\n",
       "        vertical-align: middle;\n",
       "    }\n",
       "\n",
       "    .dataframe tbody tr th {\n",
       "        vertical-align: top;\n",
       "    }\n",
       "\n",
       "    .dataframe thead th {\n",
       "        text-align: right;\n",
       "    }\n",
       "</style>\n",
       "<table border=\"1\" class=\"dataframe\">\n",
       "  <thead>\n",
       "    <tr style=\"text-align: right;\">\n",
       "      <th></th>\n",
       "      <th>sentence</th>\n",
       "      <th>sentiment_value</th>\n",
       "      <th>word_count</th>\n",
       "    </tr>\n",
       "  </thead>\n",
       "  <tbody>\n",
       "    <tr>\n",
       "      <th>0</th>\n",
       "      <td>It's amazing..... battery last around 10 -12 h...</td>\n",
       "      <td>7</td>\n",
       "      <td>17</td>\n",
       "    </tr>\n",
       "    <tr>\n",
       "      <th>1</th>\n",
       "      <td>Got it in 50k in Diwali sale.</td>\n",
       "      <td>0</td>\n",
       "      <td>7</td>\n",
       "    </tr>\n",
       "    <tr>\n",
       "      <th>2</th>\n",
       "      <td>Technically good laptop.Good News.luxury produ...</td>\n",
       "      <td>5</td>\n",
       "      <td>31</td>\n",
       "    </tr>\n",
       "    <tr>\n",
       "      <th>3</th>\n",
       "      <td>Terrific sense of possession &amp; pride.Bad News.</td>\n",
       "      <td>4</td>\n",
       "      <td>7</td>\n",
       "    </tr>\n",
       "    <tr>\n",
       "      <th>4</th>\n",
       "      <td>Problems will be there if you are switching fr...</td>\n",
       "      <td>-11</td>\n",
       "      <td>65</td>\n",
       "    </tr>\n",
       "    <tr>\n",
       "      <th>...</th>\n",
       "      <td>...</td>\n",
       "      <td>...</td>\n",
       "      <td>...</td>\n",
       "    </tr>\n",
       "    <tr>\n",
       "      <th>182</th>\n",
       "      <td>You can get one of the best movie experiences ...</td>\n",
       "      <td>3</td>\n",
       "      <td>12</td>\n",
       "    </tr>\n",
       "    <tr>\n",
       "      <th>183</th>\n",
       "      <td>Overall I would it a 4.5/5.</td>\n",
       "      <td>0</td>\n",
       "      <td>6</td>\n",
       "    </tr>\n",
       "    <tr>\n",
       "      <th>184</th>\n",
       "      <td>I got a great deal on this laptop, which I hav...</td>\n",
       "      <td>3</td>\n",
       "      <td>18</td>\n",
       "    </tr>\n",
       "    <tr>\n",
       "      <th>185</th>\n",
       "      <td>I got it not only on discount but also was abl...</td>\n",
       "      <td>0</td>\n",
       "      <td>18</td>\n",
       "    </tr>\n",
       "    <tr>\n",
       "      <th>186</th>\n",
       "      <td>Laptop works really well, it was a good purchase!</td>\n",
       "      <td>3</td>\n",
       "      <td>9</td>\n",
       "    </tr>\n",
       "  </tbody>\n",
       "</table>\n",
       "<p>187 rows × 3 columns</p>\n",
       "</div>"
      ],
      "text/plain": [
       "                                              sentence  sentiment_value  \\\n",
       "0    It's amazing..... battery last around 10 -12 h...                7   \n",
       "1                        Got it in 50k in Diwali sale.                0   \n",
       "2    Technically good laptop.Good News.luxury produ...                5   \n",
       "3       Terrific sense of possession & pride.Bad News.                4   \n",
       "4    Problems will be there if you are switching fr...              -11   \n",
       "..                                                 ...              ...   \n",
       "182  You can get one of the best movie experiences ...                3   \n",
       "183                        Overall I would it a 4.5/5.                0   \n",
       "184  I got a great deal on this laptop, which I hav...                3   \n",
       "185  I got it not only on discount but also was abl...                0   \n",
       "186  Laptop works really well, it was a good purchase!                3   \n",
       "\n",
       "     word_count  \n",
       "0            17  \n",
       "1             7  \n",
       "2            31  \n",
       "3             7  \n",
       "4            65  \n",
       "..          ...  \n",
       "182          12  \n",
       "183           6  \n",
       "184          18  \n",
       "185          18  \n",
       "186           9  \n",
       "\n",
       "[187 rows x 3 columns]"
      ]
     },
     "execution_count": 72,
     "metadata": {},
     "output_type": "execute_result"
    }
   ],
   "source": [
    "sent_df['word_count'] = sent_df['sentence'].str.split().apply(len)\n",
    "sent_df['word_count'].head(10) \n",
    "sent_df"
   ]
  },
  {
   "cell_type": "code",
   "execution_count": 73,
   "id": "84982212",
   "metadata": {
    "ExecuteTime": {
     "end_time": "2021-10-20T06:31:11.029334Z",
     "start_time": "2021-10-20T06:31:11.011333Z"
    }
   },
   "outputs": [
    {
     "data": {
      "text/html": [
       "<div>\n",
       "<style scoped>\n",
       "    .dataframe tbody tr th:only-of-type {\n",
       "        vertical-align: middle;\n",
       "    }\n",
       "\n",
       "    .dataframe tbody tr th {\n",
       "        vertical-align: top;\n",
       "    }\n",
       "\n",
       "    .dataframe thead th {\n",
       "        text-align: right;\n",
       "    }\n",
       "</style>\n",
       "<table border=\"1\" class=\"dataframe\">\n",
       "  <thead>\n",
       "    <tr style=\"text-align: right;\">\n",
       "      <th></th>\n",
       "      <th>sentence</th>\n",
       "      <th>sentiment_value</th>\n",
       "      <th>word_count</th>\n",
       "    </tr>\n",
       "  </thead>\n",
       "  <tbody>\n",
       "    <tr>\n",
       "      <th>106</th>\n",
       "      <td>I am satisfied to get the marvel of a tech in ...</td>\n",
       "      <td>5</td>\n",
       "      <td>13</td>\n",
       "    </tr>\n",
       "    <tr>\n",
       "      <th>110</th>\n",
       "      <td>The build is super strong, the operating syste...</td>\n",
       "      <td>5</td>\n",
       "      <td>10</td>\n",
       "    </tr>\n",
       "    <tr>\n",
       "      <th>45</th>\n",
       "      <td>Now my mac is perfectly fine : Got the Apple M...</td>\n",
       "      <td>5</td>\n",
       "      <td>27</td>\n",
       "    </tr>\n",
       "    <tr>\n",
       "      <th>46</th>\n",
       "      <td>Ships with macOS sierra but update is availabl...</td>\n",
       "      <td>6</td>\n",
       "      <td>86</td>\n",
       "    </tr>\n",
       "    <tr>\n",
       "      <th>64</th>\n",
       "      <td>I hope this comment can help to save somebody’...</td>\n",
       "      <td>6</td>\n",
       "      <td>10</td>\n",
       "    </tr>\n",
       "    <tr>\n",
       "      <th>103</th>\n",
       "      <td>The switch was inspired by the awesome reviews...</td>\n",
       "      <td>6</td>\n",
       "      <td>13</td>\n",
       "    </tr>\n",
       "    <tr>\n",
       "      <th>59</th>\n",
       "      <td>I use this for music production and it works a...</td>\n",
       "      <td>7</td>\n",
       "      <td>30</td>\n",
       "    </tr>\n",
       "    <tr>\n",
       "      <th>0</th>\n",
       "      <td>It's amazing..... battery last around 10 -12 h...</td>\n",
       "      <td>7</td>\n",
       "      <td>17</td>\n",
       "    </tr>\n",
       "    <tr>\n",
       "      <th>151</th>\n",
       "      <td>..So now I m working with the external keyboar...</td>\n",
       "      <td>17</td>\n",
       "      <td>113</td>\n",
       "    </tr>\n",
       "    <tr>\n",
       "      <th>86</th>\n",
       "      <td>All are Gud.. For now.. Apple,apple,apple, tha...</td>\n",
       "      <td>24</td>\n",
       "      <td>184</td>\n",
       "    </tr>\n",
       "  </tbody>\n",
       "</table>\n",
       "</div>"
      ],
      "text/plain": [
       "                                              sentence  sentiment_value  \\\n",
       "106  I am satisfied to get the marvel of a tech in ...                5   \n",
       "110  The build is super strong, the operating syste...                5   \n",
       "45   Now my mac is perfectly fine : Got the Apple M...                5   \n",
       "46   Ships with macOS sierra but update is availabl...                6   \n",
       "64   I hope this comment can help to save somebody’...                6   \n",
       "103  The switch was inspired by the awesome reviews...                6   \n",
       "59   I use this for music production and it works a...                7   \n",
       "0    It's amazing..... battery last around 10 -12 h...                7   \n",
       "151  ..So now I m working with the external keyboar...               17   \n",
       "86   All are Gud.. For now.. Apple,apple,apple, tha...               24   \n",
       "\n",
       "     word_count  \n",
       "106          13  \n",
       "110          10  \n",
       "45           27  \n",
       "46           86  \n",
       "64           10  \n",
       "103          13  \n",
       "59           30  \n",
       "0            17  \n",
       "151         113  \n",
       "86          184  "
      ]
     },
     "execution_count": 73,
     "metadata": {},
     "output_type": "execute_result"
    }
   ],
   "source": [
    "sent_df.sort_values(by='sentiment_value').tail(10) "
   ]
  },
  {
   "cell_type": "code",
   "execution_count": 74,
   "id": "793f7367",
   "metadata": {
    "ExecuteTime": {
     "end_time": "2021-10-20T06:34:07.183409Z",
     "start_time": "2021-10-20T06:34:07.159408Z"
    }
   },
   "outputs": [
    {
     "data": {
      "text/plain": [
       "count    187.000000\n",
       "mean       0.893048\n",
       "std        3.342349\n",
       "min      -11.000000\n",
       "25%       -0.500000\n",
       "50%        0.000000\n",
       "75%        3.000000\n",
       "max       24.000000\n",
       "Name: sentiment_value, dtype: float64"
      ]
     },
     "execution_count": 74,
     "metadata": {},
     "output_type": "execute_result"
    }
   ],
   "source": [
    "sent_df['sentiment_value'].describe() "
   ]
  },
  {
   "cell_type": "code",
   "execution_count": 75,
   "id": "f061c6b7",
   "metadata": {
    "ExecuteTime": {
     "end_time": "2021-10-20T06:34:09.825560Z",
     "start_time": "2021-10-20T06:34:09.805559Z"
    }
   },
   "outputs": [
    {
     "data": {
      "text/html": [
       "<div>\n",
       "<style scoped>\n",
       "    .dataframe tbody tr th:only-of-type {\n",
       "        vertical-align: middle;\n",
       "    }\n",
       "\n",
       "    .dataframe tbody tr th {\n",
       "        vertical-align: top;\n",
       "    }\n",
       "\n",
       "    .dataframe thead th {\n",
       "        text-align: right;\n",
       "    }\n",
       "</style>\n",
       "<table border=\"1\" class=\"dataframe\">\n",
       "  <thead>\n",
       "    <tr style=\"text-align: right;\">\n",
       "      <th></th>\n",
       "      <th>sentence</th>\n",
       "      <th>sentiment_value</th>\n",
       "      <th>word_count</th>\n",
       "    </tr>\n",
       "  </thead>\n",
       "  <tbody>\n",
       "    <tr>\n",
       "      <th>1</th>\n",
       "      <td>Got it in 50k in Diwali sale.</td>\n",
       "      <td>0</td>\n",
       "      <td>7</td>\n",
       "    </tr>\n",
       "    <tr>\n",
       "      <th>4</th>\n",
       "      <td>Problems will be there if you are switching fr...</td>\n",
       "      <td>-11</td>\n",
       "      <td>65</td>\n",
       "    </tr>\n",
       "    <tr>\n",
       "      <th>5</th>\n",
       "      <td>), all printers are not compatible (e.g.</td>\n",
       "      <td>0</td>\n",
       "      <td>7</td>\n",
       "    </tr>\n",
       "    <tr>\n",
       "      <th>7</th>\n",
       "      <td>you need to spend extra for an external CD wri...</td>\n",
       "      <td>0</td>\n",
       "      <td>16</td>\n",
       "    </tr>\n",
       "    <tr>\n",
       "      <th>10</th>\n",
       "      <td>Marketing strategy for Indian market, if at al...</td>\n",
       "      <td>-3</td>\n",
       "      <td>15</td>\n",
       "    </tr>\n",
       "  </tbody>\n",
       "</table>\n",
       "</div>"
      ],
      "text/plain": [
       "                                             sentence  sentiment_value  \\\n",
       "1                       Got it in 50k in Diwali sale.                0   \n",
       "4   Problems will be there if you are switching fr...              -11   \n",
       "5            ), all printers are not compatible (e.g.                0   \n",
       "7   you need to spend extra for an external CD wri...                0   \n",
       "10  Marketing strategy for Indian market, if at al...               -3   \n",
       "\n",
       "    word_count  \n",
       "1            7  \n",
       "4           65  \n",
       "5            7  \n",
       "7           16  \n",
       "10          15  "
      ]
     },
     "execution_count": 75,
     "metadata": {},
     "output_type": "execute_result"
    }
   ],
   "source": [
    "sent_df[sent_df['sentiment_value']<=0].head() "
   ]
  },
  {
   "cell_type": "code",
   "execution_count": 76,
   "id": "d5746294",
   "metadata": {
    "ExecuteTime": {
     "end_time": "2021-10-20T06:34:15.430881Z",
     "start_time": "2021-10-20T06:34:15.405879Z"
    }
   },
   "outputs": [
    {
     "data": {
      "text/html": [
       "<div>\n",
       "<style scoped>\n",
       "    .dataframe tbody tr th:only-of-type {\n",
       "        vertical-align: middle;\n",
       "    }\n",
       "\n",
       "    .dataframe tbody tr th {\n",
       "        vertical-align: top;\n",
       "    }\n",
       "\n",
       "    .dataframe thead th {\n",
       "        text-align: right;\n",
       "    }\n",
       "</style>\n",
       "<table border=\"1\" class=\"dataframe\">\n",
       "  <thead>\n",
       "    <tr style=\"text-align: right;\">\n",
       "      <th></th>\n",
       "      <th>sentence</th>\n",
       "      <th>sentiment_value</th>\n",
       "      <th>word_count</th>\n",
       "    </tr>\n",
       "  </thead>\n",
       "  <tbody>\n",
       "    <tr>\n",
       "      <th>86</th>\n",
       "      <td>All are Gud.. For now.. Apple,apple,apple, tha...</td>\n",
       "      <td>24</td>\n",
       "      <td>184</td>\n",
       "    </tr>\n",
       "    <tr>\n",
       "      <th>151</th>\n",
       "      <td>..So now I m working with the external keyboar...</td>\n",
       "      <td>17</td>\n",
       "      <td>113</td>\n",
       "    </tr>\n",
       "  </tbody>\n",
       "</table>\n",
       "</div>"
      ],
      "text/plain": [
       "                                              sentence  sentiment_value  \\\n",
       "86   All are Gud.. For now.. Apple,apple,apple, tha...               24   \n",
       "151  ..So now I m working with the external keyboar...               17   \n",
       "\n",
       "     word_count  \n",
       "86          184  \n",
       "151         113  "
      ]
     },
     "execution_count": 76,
     "metadata": {},
     "output_type": "execute_result"
    }
   ],
   "source": [
    "sent_df[sent_df['sentiment_value']>=15].head() "
   ]
  },
  {
   "cell_type": "code",
   "execution_count": 77,
   "id": "5bbd9a0e",
   "metadata": {
    "ExecuteTime": {
     "end_time": "2021-10-20T06:34:18.356048Z",
     "start_time": "2021-10-20T06:34:18.345047Z"
    }
   },
   "outputs": [],
   "source": [
    "sent_df['index']=range(0,len(sent_df)) "
   ]
  },
  {
   "cell_type": "code",
   "execution_count": 78,
   "id": "55973992",
   "metadata": {
    "ExecuteTime": {
     "end_time": "2021-10-20T06:34:21.348219Z",
     "start_time": "2021-10-20T06:34:20.882193Z"
    }
   },
   "outputs": [
    {
     "name": "stderr",
     "output_type": "stream",
     "text": [
      "C:\\Users\\Abhinav\\anaconda3\\lib\\site-packages\\seaborn\\distributions.py:2557: FutureWarning: `distplot` is a deprecated function and will be removed in a future version. Please adapt your code to use either `displot` (a figure-level function with similar flexibility) or `histplot` (an axes-level function for histograms).\n",
      "  warnings.warn(msg, FutureWarning)\n"
     ]
    },
    {
     "data": {
      "text/plain": [
       "<AxesSubplot:xlabel='sentiment_value', ylabel='Density'>"
      ]
     },
     "execution_count": 78,
     "metadata": {},
     "output_type": "execute_result"
    },
    {
     "data": {
      "image/png": "[encoded data removed]",
      "text/plain": [
       "<Figure size 432x288 with 1 Axes>"
      ]
     },
     "metadata": {
      "needs_background": "light"
     },
     "output_type": "display_data"
    }
   ],
   "source": [
    "import seaborn as sns\n",
    "import matplotlib.pyplot as plt\n",
    "sns.distplot(sent_df['sentiment_value']) "
   ]
  },
  {
   "cell_type": "code",
   "execution_count": 79,
   "id": "c907921c",
   "metadata": {
    "ExecuteTime": {
     "end_time": "2021-10-20T06:34:29.595691Z",
     "start_time": "2021-10-20T06:34:29.094662Z"
    }
   },
   "outputs": [
    {
     "data": {
      "text/plain": [
       "<AxesSubplot:xlabel='index', ylabel='sentiment_value'>"
      ]
     },
     "execution_count": 79,
     "metadata": {},
     "output_type": "execute_result"
    },
    {
     "data": {
      "image/png": "[encoded data removed]",
      "text/plain": [
       "<Figure size 1080x720 with 1 Axes>"
      ]
     },
     "metadata": {
      "needs_background": "light"
     },
     "output_type": "display_data"
    }
   ],
   "source": [
    "plt.figure(figsize=(15, 10))\n",
    "sns.lineplot(y='sentiment_value',x='index',data=sent_df) "
   ]
  },
  {
   "cell_type": "code",
   "execution_count": 80,
   "id": "c58482ff",
   "metadata": {
    "ExecuteTime": {
     "end_time": "2021-10-20T06:34:35.499029Z",
     "start_time": "2021-10-20T06:34:35.039002Z"
    }
   },
   "outputs": [
    {
     "data": {
      "text/plain": [
       "<AxesSubplot:title={'center':'Sentence sentiment value to sentence word count'}, xlabel='word_count', ylabel='sentiment_value'>"
      ]
     },
     "execution_count": 80,
     "metadata": {},
     "output_type": "execute_result"
    },
    {
     "data": {
      "image/png": "[encoded data removed]",
      "text/plain": [
       "<Figure size 576x576 with 1 Axes>"
      ]
     },
     "metadata": {
      "needs_background": "light"
     },
     "output_type": "display_data"
    }
   ],
   "source": [
    "sent_df.plot.scatter(x='word_count', y='sentiment_value', figsize=(8,8), title='Sentence sentiment value to sentence word count')"
   ]
  }
 ],
 "metadata": {
  "kernelspec": {
   "display_name": "Python 3",
   "language": "python",
   "name": "python3"
  },
  "language_info": {
   "codemirror_mode": {
    "name": "ipython",
    "version": 3
   },
   "file_extension": ".py",
   "mimetype": "text/x-python",
   "name": "python",
   "nbconvert_exporter": "python",
   "pygments_lexer": "ipython3",
   "version": "3.8.8"
  },
  "varInspector": {
   "cols": {
    "lenName": 16,
    "lenType": 16,
    "lenVar": 40
   },
   "kernels_config": {
    "python": {
     "delete_cmd_postfix": "",
     "delete_cmd_prefix": "del ",
     "library": "var_list.py",
     "varRefreshCmd": "print(var_dic_list())"
    },
    "r": {
     "delete_cmd_postfix": ") ",
     "delete_cmd_prefix": "rm(",
     "library": "var_list.r",
     "varRefreshCmd": "cat(var_dic_list()) "
    }
   },
   "types_to_exclude": [
    "module",
    "function",
    "builtin_function_or_method",
    "instance",
    "_Feature"
   ],
   "window_display": false
  }
 },
 "nbformat": 4,
 "nbformat_minor": 5
}
